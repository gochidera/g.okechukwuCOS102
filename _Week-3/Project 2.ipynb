{
 "cells": [
  {
   "cell_type": "code",
   "execution_count": 10,
   "id": "e4606e0c-0aa3-4c68-9a2e-1a76a9fba16d",
   "metadata": {},
   "outputs": [
    {
     "name": "stdin",
     "output_type": "stream",
     "text": [
      "Enter the coefficient of x^2:  3\n",
      "Enter the coefficient of x:  3\n",
      "Enter the constant:  2\n"
     ]
    },
    {
     "name": "stdout",
     "output_type": "stream",
     "text": [
      "No real roots\n"
     ]
    }
   ],
   "source": [
    "   import math\n",
    "\n",
    "def find_quadratic_roots(a, b, c):\n",
    "    # Calculate the discriminant\n",
    "    discriminant = b**2 - 4*a*c\n",
    "    \n",
    "    # Check discriminant\n",
    "    if discriminant < 0:\n",
    "        return None  # No real roots\n",
    "    elif discriminant == 0:\n",
    "        # One real root\n",
    "        root = -b / (2*a)\n",
    "        return root,\n",
    "    else:\n",
    "        # Two distinct real roots\n",
    "        sqrt_discriminant = math.sqrt(discriminant)\n",
    "        root1 = (-b + sqrt_discriminant) / (2*a)\n",
    "        root2 = (-b - sqrt_discriminant) / (2*a)\n",
    "        return root1, root2\n",
    "\n",
    "# Input from user\n",
    "a = float(input(\"Enter the coefficient of x^2: \")) \n",
    "b = float(input(\"Enter the coefficient of x: \"))    \n",
    "c = float(input(\"Enter the constant: \"))            \n",
    "\n",
    "roots = find_quadratic_roots(a, b, c)\n",
    "if roots is None:\n",
    "    print(\"No real roots\")\n",
    "else:\n",
    "    print(\"The roots of the quadratic equation are:\", roots)\n"
   ]
  },
  {
   "cell_type": "code",
   "execution_count": null,
   "id": "f685213a-96e5-4871-97eb-df250e859691",
   "metadata": {},
   "outputs": [],
   "source": []
  }
 ],
 "metadata": {
  "kernelspec": {
   "display_name": "Python 3 (ipykernel)",
   "language": "python",
   "name": "python3"
  },
  "language_info": {
   "codemirror_mode": {
    "name": "ipython",
    "version": 3
   },
   "file_extension": ".py",
   "mimetype": "text/x-python",
   "name": "python",
   "nbconvert_exporter": "python",
   "pygments_lexer": "ipython3",
   "version": "3.11.7"
  }
 },
 "nbformat": 4,
 "nbformat_minor": 5
}
