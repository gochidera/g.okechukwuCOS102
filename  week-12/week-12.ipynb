{
 "cells": [
  {
   "cell_type": "markdown",
   "metadata": {},
   "source": [
    "# What is Abstraction in OOP"
   ]
  },
  {
   "cell_type": "markdown",
   "metadata": {},
   "source": [
    "<ul><li>Abstraction is the concept of object-oriented programming that “shows” only essential attributes and “hides” unnecessary information.</li><li>The main purpose of abstraction is hiding the unnecessary details from the users. </li><li> Abstraction is selecting data from a larger pool to show only relevant details of the object to the user. </li><li> It helps in reducing programming complexity and efforts. </li><li>It is one of the most important concepts of OOPs.</li></ul> "
   ]
  },
  {
   "cell_type": "markdown",
   "metadata": {},
   "source": [
    "# Abstraction in Python"
   ]
  },
  {
   "cell_type": "markdown",
   "metadata": {},
   "source": [
    "<ul><li>Abstraction in python is defined as hiding the implementation of logic from the client and using the particular application. </li><li>It hides the irrelevant data specified in the project, reducing complexity and giving value to the efficiency.</li><li> Abstraction is made in Python using <b>Abstract classes</b> and their methods in the code.</li></ul>"
   ]
  },
  {
   "cell_type": "markdown",
   "metadata": {},
   "source": [
    "## What is an Abstract Class?"
   ]
  },
  {
   "cell_type": "markdown",
   "metadata": {},
   "source": [
    "<ul><li>Abstract Class is a type of class in OOPs, that declare one or more abstract methods. </li><li>These classes can have abstract methods as well as concrete methods. </li><li>A normal class cannot have abstract methods.</li><li>An abstract class is a class that contains at least one abstract method.</li></ul>"
   ]
  },
  {
   "cell_type": "markdown",
   "metadata": {},
   "source": [
    "## What are Abstract Methods?\n",
    "<ul><li>Abstract Method is a method that has just the method definition but does not contain implementation.</li><li>A method without a body is known as an Abstract Method.</li><li>It must be declared in an abstract class.</li><li>The abstract method will never be final because the abstract class must implement all the abstract methods.</li></ul>"
   ]
  },
  {
   "cell_type": "markdown",
   "metadata": {},
   "source": [
    "## When to use Abstract Methods & Abstract Class?\n",
    "<ul><li>Abstract methods are mostly declared where two or more subclasses are also doing the same thing in different ways through different implementations.</li><li>It also extends the same Abstract class and offers different implementations of the abstract methods.</li><li>Abstract classes help to describe generic types of behaviors and object-oriented programming class hierarchy. </li><li>It also describes subclasses to offer implementation details of the abstract class.</li></ul>"
   ]
  },
  {
   "cell_type": "markdown",
   "metadata": {},
   "source": [
    "## Difference between Abstraction and Encapsulation"
   ]
  },
  {
   "cell_type": "markdown",
   "metadata": {},
   "source": [
    "<table style=\"background-color:#ffe6e6\">\n",
    "    <tr><th><b>Abstraction</b></th><th><b>Encapsulation</b></th></tr>\n",
    "    <tr><td>Abstraction in Object Oriented Programming solves the issues at the design level.</td><td>Encapsulation solves it implementation level.</td></tr>\n",
    "    <tr><td>Abstraction in Programming is about hiding unwanted details while showing most essential information.</td><td>Encapsulation means binding the code and data into a single unit.</td></tr>\n",
    "    <tr><td>Data Abstraction in Java allows focussing on what the information object must contain</td><td>Encapsulation means hiding the internal details or mechanics of how an object does something for security reasons.</td></tr>\n",
    "</table>"
   ]
  },
  {
   "cell_type": "markdown",
   "metadata": {},
   "source": [
    "## Advantages of Abstraction\n",
    "<ol><li>The main benefit of using an Abstraction in Programming is that it allows you to group several related classes as siblings.</li><li>\n",
    "Abstraction in Object Oriented Programming helps to reduce the complexity of the design and implementation process of software.</li></ol>"
   ]
  },
  {
   "cell_type": "markdown",
   "metadata": {},
   "source": [
    "## How Abstract Base classes work : \n",
    "<ul><li>By default, Python does not provide abstract classes. Python comes with a module that provides the base for defining Abstract Base classes(ABC) and that module name is ABC. </li><li>ABC works by decorating methods of the base class as abstract and then registering concrete classes as implementations of the abstract base. </li><li>A method becomes abstract when decorated with the keyword @abstractmethod.</li></ul>"
   ]
  },
  {
   "cell_type": "markdown",
   "metadata": {},
   "source": [
    "#### Syntax\n",
    "\n",
    "Abstract class Syntax is declared as:"
   ]
  },
  {
   "cell_type": "code",
   "execution_count": 11,
   "metadata": {},
   "outputs": [],
   "source": [
    "from abc import ABC\n",
    "\n",
    "# declaration\n",
    "class classname(ABC):\n",
    "    pass\n",
    "        "
   ]
  },
  {
   "cell_type": "markdown",
   "metadata": {},
   "source": [
    "Abstract method Syntax is declared as"
   ]
  },
  {
   "cell_type": "code",
   "execution_count": 12,
   "metadata": {},
   "outputs": [],
   "source": [
    "def abstractmethod_name():\n",
    "    pass\n",
    "        "
   ]
  },
  {
   "cell_type": "markdown",
   "metadata": {},
   "source": [
    "### Few things to be noted in Python:\n",
    "\n",
    "<ul><li>In python, an abstract class can hold both an abstract method and a normal method.</li><li>\n",
    "The second point is an abstract class is not initiated (no objects are created).</li><li>\n",
    "The derived class implementation methods are defined in abstract base classes.</li></ul>"
   ]
  },
  {
   "cell_type": "code",
   "execution_count": 52,
   "metadata": {},
   "outputs": [],
   "source": [
    "from abc import ABC\n",
    "\n",
    "# here abc and ABC are case-sensitive. When we swap it creates"
   ]
  },
  {
   "cell_type": "markdown",
   "metadata": {},
   "source": [
    "### Code I:"
   ]
  },
  {
   "cell_type": "code",
   "execution_count": 8,
   "metadata": {},
   "outputs": [],
   "source": [
    "from abc import ABC, abstractmethod\n",
    "\n",
    "# Abstract Class\n",
    "class product(ABC):                    \n",
    "    \n",
    "    # Normal Method\n",
    "    def item_list(self, rate):\n",
    "        print(\"amount submitted : \",rate)\n",
    "    \n",
    "    # Abstract Method\n",
    "    @abstractmethod\n",
    "    def product(self,rate):  \n",
    "        pass\n",
    "        "
   ]
  },
  {
   "cell_type": "markdown",
   "metadata": {},
   "source": [
    "### Code II:\n",
    "A program to generate the volume of geometric shapes"
   ]
  },
  {
   "cell_type": "code",
   "execution_count": 27,
   "metadata": {},
   "outputs": [
    {
     "name": "stdout",
     "output_type": "stream",
     "text": [
      "Volume of a rectangle: 144\n",
      "Volume of a circle: 2089.9840000000004\n",
      "Volume of a square: 125\n",
      "Volume of a triangle: 10.0\n"
     ]
    }
   ],
   "source": [
    "from abc import ABC\n",
    "\n",
    "class geometric(ABC):\n",
    "\n",
    "    @abstractmethod\n",
    "\n",
    "    def volume(self):\n",
    "        #abstract method\n",
    "        pass\n",
    "    \n",
    "class Rect(geometric):\n",
    "    length = 4\n",
    "    width = 6\n",
    "    height = 6\n",
    "    def volume(self):\n",
    "        return self.length * self.width *self.height\n",
    "    \n",
    "class Sphere(geometric):\n",
    "    radius = 8\n",
    "    def volume(self):\n",
    "        return 1.3 * 3.14 * self.radius * self.radius *self.radius\n",
    "    \n",
    "class Cube(geometric):\n",
    "    Edge = 5\n",
    "    def volume(self):\n",
    "        return self.Edge * self.Edge *self.Edge\n",
    "    \n",
    "class Triangle_3D:\n",
    "    length = 5\n",
    "    width = 4\n",
    "    def volume(self):\n",
    "        return 0.5 * self.length * self.width\n",
    "    \n",
    "rr = Rect()\n",
    "ss = Sphere()\n",
    "cc = Cube()\n",
    "tt = Triangle_3D()\n",
    "print(\"Volume of a rectangle:\", rr.volume())\n",
    "print(\"Volume of a circle:\", ss.volume())\n",
    "print(\"Volume of a square:\", cc.volume())\n",
    "print(\"Volume of a triangle:\", tt.volume())"
   ]
  },
  {
   "cell_type": "markdown",
   "metadata": {},
   "source": [
    "### Code III\n",
    "A program to generate different invoices"
   ]
  },
  {
   "cell_type": "code",
   "execution_count": 55,
   "metadata": {},
   "outputs": [
    {
     "name": "stdout",
     "output_type": "stream",
     "text": [
      "paycheque of:  6500\n",
      "Purchase of the product:  6500\n",
      "True\n",
      "pay through card of:  2600\n",
      "Purchase of the product:  2600\n",
      "True\n"
     ]
    }
   ],
   "source": [
    "from abc import ABC, abstractmethod\n",
    "\n",
    "class Bill(ABC):\n",
    "    def final_bill(self, pay):\n",
    "        print('Purchase of the product: ', pay)\n",
    "        \n",
    "    @abstractmethod\n",
    "    def Invoice(self, pay):\n",
    "        pass\n",
    "    \n",
    "class paycheque(Bill):\n",
    "    def Invoice(self, pay):\n",
    "        print('paycheque of: ', pay)\n",
    "        \n",
    "class CardPayment(Bill):\n",
    "    def Invoice(self, pay):\n",
    "        print('pay through card of: ', pay)\n",
    "        \n",
    "aa = paycheque()\n",
    "aa.Invoice(6500)\n",
    "aa.final_bill(6500)\n",
    "print(isinstance(aa,Bill))\n",
    "aa = CardPayment()\n",
    "aa.Invoice(2600)\n",
    "aa.final_bill(2600)\n",
    "print(isinstance(aa,Bill))"
   ]
  },
  {
   "cell_type": "markdown",
   "metadata": {},
   "source": [
    "### Code IV:\n",
    " Python program showing abstract base class work"
   ]
  },
  {
   "cell_type": "code",
   "execution_count": 37,
   "metadata": {},
   "outputs": [
    {
     "name": "stdout",
     "output_type": "stream",
     "text": [
      "I can walk and run\n",
      "I can crawl\n",
      "I can bark\n",
      "I can roar\n"
     ]
    }
   ],
   "source": [
    "from abc import ABC, abstractmethod\n",
    "\n",
    "class Animals(ABC):\n",
    "\n",
    "    @abstractmethod\n",
    "    def move(self):\n",
    "        pass\n",
    "\n",
    "class Human(Animals):\n",
    "    \n",
    "    def move(self):\n",
    "        print(\"I can walk and run\")\n",
    "\n",
    "class Snake(Animals):\n",
    "    \n",
    "    def move(self):\n",
    "        print(\"I can crawl\")\n",
    "\n",
    "class Dog(Animals):\n",
    "\n",
    "    def move(self):\n",
    "        print(\"I can bark\")\n",
    "\n",
    "class Lion(Animals):\n",
    "    \n",
    "    def move(self):\n",
    "        print(\"I can roar\")\n",
    "\n",
    "# Object Instantiation\n",
    "R = Human()\n",
    "R.move()\n",
    "\n",
    "K = Snake()\n",
    "K.move()\n",
    "\n",
    "R = Dog()\n",
    "R.move()\n",
    "\n",
    "K = Lion()\n",
    "K.move()\n"
   ]
  },
  {
   "cell_type": "markdown",
   "metadata": {},
   "source": [
    "### Concrete Methods in Abstract Base Classes : \n",
    "<ul><li>Concrete (normal) classes contain only concrete (normal) methods whereas abstract classes may contain both concrete methods and abstract methods.</li><li> The concrete class provides an implementation of abstract methods, the abstract base class can also provide an implementation by invoking the methods via super().</li></ul>"
   ]
  },
  {
   "cell_type": "markdown",
   "metadata": {},
   "source": [
    "### Code V:\n",
    "Python program invoking a method using super()"
   ]
  },
  {
   "cell_type": "code",
   "execution_count": 58,
   "metadata": {},
   "outputs": [
    {
     "name": "stdout",
     "output_type": "stream",
     "text": [
      "Abstract Base Class\n",
      "subclass\n"
     ]
    }
   ],
   "source": [
    "from abc import ABC, abstractmethod\n",
    "\n",
    "class Zinc(ABC):\n",
    "    \n",
    "    def rk(self):\n",
    "        print(\"Abstract Base Class\")\n",
    "\n",
    "class Tin(Zinc):\n",
    "    def rk(self):\n",
    "        super().rk()\n",
    "        print(\"subclass\")\n",
    "\n",
    "# Object instantiation\n",
    "r = Tin()\n",
    "r.rk()\n"
   ]
  },
  {
   "cell_type": "markdown",
   "metadata": {},
   "source": [
    "### Code VI:"
   ]
  },
  {
   "cell_type": "code",
   "execution_count": 71,
   "metadata": {},
   "outputs": [
    {
     "name": "stdout",
     "output_type": "stream",
     "text": [
      "Total Naira Value here:  5000\n",
      "Total Naira Value here: 2000\n",
      "Fees submitted :  3500\n"
     ]
    }
   ],
   "source": [
    "from abc import ABC, abstractmethod\n",
    "\n",
    "class Bank(ABC):\n",
    "    def branch(self, Naira):\n",
    "        print(\"Fees submitted : \",Naira)\n",
    "   \n",
    "    @abstractmethod\n",
    "    def Bank(Naira):\n",
    "        pass\n",
    "        \n",
    "class private(Bank):\n",
    "    def Bank(Naira):\n",
    "        print(\"Total Naira Value here: \",Naira)\n",
    "        \n",
    "class public(Bank):\n",
    "    def Bank(Naira):\n",
    "        print(\"Total Naira Value here:\",Naira)\n",
    "\n",
    "private.Bank(5000)\n",
    "public.Bank(2000)\n",
    "\n",
    "a = public()\n",
    "a.branch(3500)"
   ]
  },
  {
   "cell_type": "markdown",
   "metadata": {},
   "source": [
    "## Class Project I"
   ]
  },
  {
   "cell_type": "markdown",
   "metadata": {},
   "source": [
    "Develop a python OOP program that creates an abstract base class called coup_de_ecriva.  The base class will have one abstract method called <b>Fan_Page</b> and four subclassses namely; <b>FC_Cirok, Madiba_FC, Blue_Jay_FC and TSG_Walker</b>. The program will receive as input the name of the club the user supports and instantiate an object that will invoke the <b>Fan_Page</b> method in the subclass that prints Welcome to <b>\"club name\"</b>.\n",
    "\n",
    "<p><b>Hint:</b></p>\n",
    "The subclasses will use <b>Single Inheritance</b> to inherit the abstract base class.\n",
    " "
   ]
  },
  {
   "cell_type": "code",
   "execution_count": null,
   "metadata": {},
   "outputs": [],
   "source": [
    "from abc import ABC, abstractmethod\n",
    "\n",
    "class CoupDeEscriva(ABC):\n",
    "    def branch(self,clubname):\n",
    "        self.clubname = clubname \n",
    "    \n",
    "    @abstractmethod\n",
    "    def Fan_Page(clubname):\n",
    "        pass\n",
    "        \n",
    "class FC_Cirok(CoupDeEscriva):\n",
    "    def Fan_Page(clubname):\n",
    "        print(\"Welcome to FC_Cirok\")\n",
    "\n",
    "class Madiba_FC(CoupDeEscriva):\n",
    "    def Fan_Page(clubname):\n",
    "        print(\"Welcome to Madiba FC\")\n",
    "    \n",
    "class Blue_Jay_FC(CoupDeEscriva):\n",
    "    def Fan_Page(clubname):\n",
    "        print(\"Welcome to Blue Jay FC\")\n",
    "    \n",
    "class TSGWalker(CoupDeEscriva):\n",
    "    def Fan_Page(clubname):\n",
    "        print(\"Welcome to TSG Walker\")\n",
    "\n",
    "clubname = input(\"Enter the name of your club\")\n",
    "\n",
    "if clubname == \"FC Cirok\":\n",
    "    club = FC_Cirok()\n",
    "elif clubname == \"Madiba FC\":\n",
    "    club = Madiba_FC()\n",
    "elif clubname == \"Blue Jay FC\":\n",
    "    club = Blue_Jay_FC()\n",
    "elif clubname == \"TSG Walker\":\n",
    "    club = TSGWalker()\n",
    "else:\n",
    "    print(\"Club not recognized.\")\n",
    "    club = None\n",
    "\n",
    "if club:\n",
    "    club.Fan_Page()\n",
    "\n",
    "\n"
   ]
  },
  {
   "cell_type": "markdown",
   "metadata": {},
   "source": [
    "## Class Project II"
   ]
  },
  {
   "cell_type": "code",
   "execution_count": null,
   "metadata": {},
   "outputs": [],
   "source": [
    " import tkinter as tk\n",
    "from abc import ABC, abstractmethod\n",
    "\n",
    "class External_Vendors(ABC):\n",
    "    @abstractmethod\n",
    "    def menu(self):\n",
    "        pass\n",
    "\n",
    "class CooperativeHostel(External_Vendors):\n",
    "    def menu(self):\n",
    "        return [\n",
    "            (\"Jollof Rice and Stew\", 200),\n",
    "            (\"White Rice and Stew\", 200),\n",
    "            (\"Fried Rice\", 200),\n",
    "            (\"Salad\", 100),\n",
    "            (\"Plantain\", 100)\n",
    "        ]\n",
    "\n",
    "class FaithHostel(External_Vendors):\n",
    "    def menu(self):\n",
    "        return [\n",
    "            (\"Fried Rice\", 400),\n",
    "            (\"White Rice and Stew\", 400),\n",
    "            (\"Jollof Rice\", 400),\n",
    "            (\"Beans\", 200),\n",
    "            (\"Chicken\", 1000)\n",
    "        ]\n",
    "\n",
    "class StudentCenter(External_Vendors):\n",
    "    def menu(self):\n",
    "        return [\n",
    "            (\"Chicken Fried Rice\", 800),\n",
    "            (\"Pomo Sauce\", 300),\n",
    "            (\"Spaghetti Jollof\", 500),\n",
    "            (\"Amala/Ewedu\", 500),\n",
    "            (\"Semo with Eforiro Soup\", 500)\n",
    "        ]\n",
    "\n",
    "class VendorAppGUI:\n",
    "    def __init__(self, root):\n",
    "        self.root = root\n",
    "        self.root.title(\"PAU External Food Vendors\")\n",
    "\n",
    "        self.label = tk.Label(root, text=\"Select a vendor:\", font=('Times New Roman', 14))\n",
    "        self.label.pack(pady=10)\n",
    "\n",
    "        self.vendor_var = tk.StringVar()\n",
    "        self.vendor_var.set(\"Select a vendor\")\n",
    "\n",
    "        self.dropdown = tk.OptionMenu(root, self.vendor_var, \"Cooperative Hostel\", \"Faith Hostel\", \"Student Center\")\n",
    "        self.dropdown.pack(pady=10)\n",
    "\n",
    "        self.show_menu_button = tk.Button(root, text=\"Show Menu\", command=self.show_menu)\n",
    "        self.show_menu_button.pack(pady=10)\n",
    "\n",
    "        self.menu_text = tk.Text(root, width=50, height=10)\n",
    "        self.menu_text.pack(pady=10)\n",
    "\n",
    "    def show_menu(self):\n",
    "        vendor_name = self.vendor_var.get()\n",
    "        vendor_instance = self.get_vendor_instance(vendor_name)\n",
    "        \n",
    "        if vendor_instance:\n",
    "            menu_items = vendor_instance.menu()\n",
    "            self.menu_text.delete(1.0, tk.END)\n",
    "            self.menu_text.insert(tk.END, f\"{vendor_name} Menu:\\n\\n\")\n",
    "            for item, price in menu_items:\n",
    "                self.menu_text.insert(tk.END, f\"{item}\\t - N{price}\\n\")\n",
    "        else:\n",
    "            self.menu_text.delete(1.0, tk.END)\n",
    "            self.menu_text.insert(tk.END, \"Please select a valid vendor.\")\n",
    "\n",
    "    def get_vendor_instance(self, vendor_name):\n",
    "        if vendor_name == \"Cooperative Hostel\":\n",
    "            return CooperativeHostel()\n",
    "        elif vendor_name == \"Faith Hostel\":\n",
    "            return FaithHostel()\n",
    "        elif vendor_name == \"Student Center\":\n",
    "            return StudentCenter()\n",
    "        else:\n",
    "            return None\n",
    "\n",
    "if __name__ == \"__main__\":\n",
    "    root = tk.Tk()\n",
    "    app = VendorApp(root)\n",
    "    root.mainloop()\n"
   ]
  },
  {
   "cell_type": "code",
   "execution_count": null,
   "metadata": {},
   "outputs": [],
   "source": []
  }
 ],
 "metadata": {
  "kernelspec": {
   "display_name": "Python 3 (ipykernel)",
   "language": "python",
   "name": "python3"
  },
  "language_info": {
   "codemirror_mode": {
    "name": "ipython",
    "version": 3
   },
   "file_extension": ".py",
   "mimetype": "text/x-python",
   "name": "python",
   "nbconvert_exporter": "python",
   "pygments_lexer": "ipython3",
   "version": "3.11.7"
  }
 },
 "nbformat": 4,
 "nbformat_minor": 4
}
