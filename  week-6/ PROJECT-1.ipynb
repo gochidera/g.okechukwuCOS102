{
 "cells": [
  {
   "cell_type": "code",
   "execution_count": 2,
   "id": "6e69e68f-c4db-43f7-ac99-8e496473d51a",
   "metadata": {},
   "outputs": [],
   "source": [
    " import tkinter as tk\n",
    "from tkinter import messagebox\n",
    "\n",
    "# Create the main window\n",
    "root = tk.Tk()\n",
    "root.title(\"SIMI SERVICES\")\n",
    "root.geometry(\"500x200\")\n",
    "\n",
    " # Create location label and entry\n",
    "location_label = tk.Label(root, text=\"Enter your location\")\n",
    "location_label.pack()\n",
    "location_entry = tk.Entry(root)\n",
    "location_entry.pack()\n",
    "\n",
    "# Create weight label and entry\n",
    "weight_label = tk.Label(root, text=\"Enter the weight of your package (kg)\")\n",
    "weight_label.pack()\n",
    "weight_entry = tk.Entry(root)\n",
    "weight_entry.pack()\n",
    "\n",
    "def submit():\n",
    "    location = location_entry.get()\n",
    "    weight = float(weight_entry.get()) \n",
    "\n",
    "    # Check if input matches the requirement\n",
    "    if location == \"Ibeju-lekki\" and weight >= 10:\n",
    "        messagebox.showinfo(\"Payment info\", \"You are expected to pay 5000\")\n",
    "    elif location == \"Ibeju-lekki\" and weight < 10:\n",
    "        messagebox.showinfo(\"Payment info\", \"You are expected to pay 3500\")\n",
    "    elif location == \"Epe\" and weight >= 10:\n",
    "        messagebox.showinfo(\"Payment info\", \"You are expected to pay 10000\")\n",
    "    elif location == \"Epe\" and weight < 10:\n",
    "        messagebox.showinfo(\"Payment info\", \"You are expected to pay 3500\")\n",
    "\n",
    "# Add a button widget\n",
    "button = tk.Button(root, text=\"Submit\", command=submit)\n",
    "button.pack()\n",
    "\n",
    "# Start the event loop\n",
    "root.mainloop()\n",
    "\n",
    "\n"
   ]
  },
  {
   "cell_type": "code",
   "execution_count": null,
   "id": "ca69c213-2785-44b5-b94b-be0751be7630",
   "metadata": {},
   "outputs": [],
   "source": []
  }
 ],
 "metadata": {
  "kernelspec": {
   "display_name": "Python 3 (ipykernel)",
   "language": "python",
   "name": "python3"
  },
  "language_info": {
   "codemirror_mode": {
    "name": "ipython",
    "version": 3
   },
   "file_extension": ".py",
   "mimetype": "text/x-python",
   "name": "python",
   "nbconvert_exporter": "python",
   "pygments_lexer": "ipython3",
   "version": "3.11.7"
  }
 },
 "nbformat": 4,
 "nbformat_minor": 5
}
