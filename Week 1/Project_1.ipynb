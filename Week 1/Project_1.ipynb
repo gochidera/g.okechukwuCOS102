{
 "cells": [
  {
   "cell_type": "code",
   "execution_count": 4,
   "id": "0b6652c2-268d-496b-a0d8-13ed9213f96d",
   "metadata": {},
   "outputs": [
    {
     "name": "stdin",
     "output_type": "stream",
     "text": [
      "Enter the principal amount:  400\n",
      "Enter the interest rate:  8\n",
      "Enter the time (in years)  9\n"
     ]
    },
    {
     "name": "stdout",
     "output_type": "stream",
     "text": [
      "The simple interest is: 288.0\n"
     ]
    }
   ],
   "source": [
    " #calculate_simple_interest(principal, rate, time):\n",
    "    # Calculate simple interest using the formula\n",
    "   # simple_interest = (principal * rate * time) / 100\n",
    "    #return simple_interest\n",
    "\n",
    "# Get input from the user\n",
    "principal_amount = float(input(\"Enter the principal amount: \"))\n",
    "interest_rate = float(input(\"Enter the interest rate: \"))\n",
    "time = float(input(\"Enter the time (in years) \"))\n",
    "\n",
    "# Calculate and display the simple interest\n",
    "interest_result = (principal_amount* interest_rate * time) / 100\n",
    "print(f\"The simple interest is: {interest_result}\")\n",
    "\n",
    "\n",
    " "
   ]
  },
  {
   "cell_type": "code",
   "execution_count": 2,
   "id": "ce5db6ae-c57f-471c-b424-115e9d678f18",
   "metadata": {},
   "outputs": [
    {
     "name": "stdin",
     "output_type": "stream",
     "text": [
      "Enter the principal: 400\n",
      "Enter the interest rate: 4\n",
      "Enter the time (in years): 6\n",
      "no of times interest compounded 2\n"
     ]
    },
    {
     "name": "stdout",
     "output_type": "stream",
     "text": [
      "The compound interest is: 212576400.0\n"
     ]
    }
   ],
   "source": [
    " #calculate_compound_interest( principal,rate, number of times interest is compounded, time)\n",
    "#calculate compound interest using the formula\n",
    "#compound_interest = principal* (1 + rate/no of times interest is compunded)^no of times interest is compunded*time\n",
    "\n",
    "# Get input from user\n",
    "principal = float(input(\"Enter the principal:\"))\n",
    "rate = float(input(\"Enter the interest rate:\"))\n",
    "time = float(input(\"Enter the time (in years):\"))\n",
    "no_of_periods = float(input(\"no of periods\"))\n",
    "\n",
    "\n",
    "# Calculate and display the compound interest\n",
    "interest_result = principal * (1 + rate / no_of_periods) ** (no_of_periods * time)\n",
    "print(f\"The compound interest is: {interest_result}\")"
   ]
  },
  {
   "cell_type": "code",
   "execution_count": 7,
   "id": "379d4d80-4e20-421b-b68f-e6cccc7ce459",
   "metadata": {},
   "outputs": [
    {
     "name": "stdin",
     "output_type": "stream",
     "text": [
      "Enter the payment amount:  8000\n",
      "Enter the interest rate:  2\n",
      "Enter the time (in years):  4\n",
      "Enter the number of periods:  2\n"
     ]
    },
    {
     "name": "stdout",
     "output_type": "stream",
     "text": [
      "The annuity plan is: 2040000.0\n"
     ]
    }
   ],
   "source": [
    "#calculate annuity plan( PMT, rate, time, number of periods)\n",
    "#calculate annuity plan using the formula\n",
    "#annuity plan = PMT * [(1 + rate / number of periods) ** (number of periods * time) - 1] / (rate / number of periods)\n",
    "\n",
    " # Get input from user\n",
    "PMT = float(input(\"Enter the payment amount: \"))\n",
    "rate = float(input(\"Enter the interest rate: \"))\n",
    "time = float(input(\"Enter the time (in years): \"))\n",
    "number_of_periods = float(input(\"Enter the number of periods: \"))\n",
    "\n",
    "# calculate and display the annuity plan\n",
    "annuity_plan = PMT * ((1 + rate / number_of_periods) ** (number_of_periods * time) - 1) / (rate / number_of_periods)\n",
    "print(f\"The annuity plan is: {annuity_plan}\")"
   ]
  },
  {
   "cell_type": "code",
   "execution_count": null,
   "id": "7b67e8b4-ed38-4a79-8000-7e4aad9a0600",
   "metadata": {},
   "outputs": [],
   "source": []
  }
 ],
 "metadata": {
  "kernelspec": {
   "display_name": "Python 3 (ipykernel)",
   "language": "python",
   "name": "python3"
  },
  "language_info": {
   "codemirror_mode": {
    "name": "ipython",
    "version": 3
   },
   "file_extension": ".py",
   "mimetype": "text/x-python",
   "name": "python",
   "nbconvert_exporter": "python",
   "pygments_lexer": "ipython3",
   "version": "3.11.7"
  }
 },
 "nbformat": 4,
 "nbformat_minor": 5
}
