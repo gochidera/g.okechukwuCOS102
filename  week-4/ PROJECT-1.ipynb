{
 "cells": [
  {
   "cell_type": "code",
   "execution_count": 4,
   "id": "92e0dbc0-40cf-472b-bae3-b980efe8e33e",
   "metadata": {},
   "outputs": [
    {
     "name": "stdout",
     "output_type": "stream",
     "text": [
      "Information of female students in the classroom\n",
      "Evelyn | 17 | 5.5 | 83 |\n",
      "Jessica | 16 | 6.0 | 85 |\n",
      "Somto | 17 | 5.4 | 70 |\n",
      "Edith | 18 | 5.9 | 60 |\n",
      "Lara | 16 | 5.5 | 65 |\n",
      "Madonna | 18 | 5.8 | 74 |\n",
      "Waje | 17 | 6.1 | 87 |\n",
      "Tola | 28 | 6.0 | 98 |\n",
      "Aisha | 19 | 5.7 | 66 |\n",
      "Latifa | 17 | 5.5 | 69 |\n"
     ]
    }
   ],
   "source": [
    "print(\"Information of female students in the classroom\")\n",
    "Name = [\"Evelyn\", \"Jessica\", \"Somto\", \"Edith\", \"Lara\", \"Madonna\", \"Waje\", \"Tola\", \"Aisha\", \"Latifa\"]\n",
    "Age = [17, 16, 17, 18, 16, 18, 17, 28, 19, 17]\n",
    "Height = [5.5, 6.0, 5.4, 5.9, 5.5, 5.8, 6.1, 6.0, 5.7, 5.5]\n",
    "Scores = [83, 85, 70, 60, 65, 74, 87, 98, 66, 69]\n",
    "\n",
    "for val in range(10):\n",
    "    print(Name[val], \"|\", Age[val], \"|\", Height[val], \"|\", Scores[val], \"|\")\n",
    "\n"
   ]
  },
  {
   "cell_type": "code",
   "execution_count": 6,
   "id": "aee9cb1e-7027-4410-97ea-16a090df54a3",
   "metadata": {},
   "outputs": [
    {
     "name": "stdout",
     "output_type": "stream",
     "text": [
      "Information of the male students in the classroom\n",
      "Chinedu | 17 | 5.5 | 83 |\n",
      "Liam | 16 | 6.0 | 85 |\n",
      "Wale | 17 | 5.4 | 70 |\n",
      "Gbenga | 18 | 5.9 | 60 |\n",
      "Abiola | 16 | 5.5 | 65 |\n",
      "Kole | 18 | 5.8 | 74 |\n",
      "George | 17 | 6.1 | 87 |\n",
      "Thomas | 28 | 6.0 | 98 |\n",
      "Wesley | 19 | 5.7 | 66 |\n",
      "Kunle | 17 | 5.5 | 69 |\n"
     ]
    }
   ],
   "source": [
    "print(\"Information of the male students in the classroom\")\n",
    "Name = [\"Chinedu\", \"Liam\", \"Wale\", \"Gbenga\", \"Abiola\", \"Kole\", \"George\", \"Thomas\", \"Wesley\",\"Kunle\"]\n",
    "Age = [17, 16, 17, 18, 16, 18, 17, 28, 19, 17]\n",
    "Height = [5.5, 6.0, 5.4, 5.9, 5.5, 5.8, 6.1, 6.0, 5.7, 5.5]\n",
    "Scores = [83, 85, 70, 60, 65, 74, 87, 98, 66, 69]\n",
    "\n",
    "for val in range(10):\n",
    "    print(Name[val], \"|\", Age[val], \"|\", Height[val], \"|\", Scores[val], \"|\")"
   ]
  },
  {
   "cell_type": "code",
   "execution_count": null,
   "id": "a6e32274-456c-4ccc-af25-12667ac8389d",
   "metadata": {},
   "outputs": [],
   "source": []
  }
 ],
 "metadata": {
  "kernelspec": {
   "display_name": "Python 3 (ipykernel)",
   "language": "python",
   "name": "python3"
  },
  "language_info": {
   "codemirror_mode": {
    "name": "ipython",
    "version": 3
   },
   "file_extension": ".py",
   "mimetype": "text/x-python",
   "name": "python",
   "nbconvert_exporter": "python",
   "pygments_lexer": "ipython3",
   "version": "3.11.7"
  }
 },
 "nbformat": 4,
 "nbformat_minor": 5
}
