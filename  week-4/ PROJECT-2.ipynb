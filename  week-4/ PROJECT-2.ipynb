{
 "cells": [
  {
   "cell_type": "code",
   "execution_count": 6,
   "id": "e6f5925b-81e6-4bfb-bd45-9cf9d542d06d",
   "metadata": {},
   "outputs": [
    {
     "name": "stdout",
     "output_type": "stream",
     "text": [
      "Welcome to Izifin Technology\n"
     ]
    },
    {
     "name": "stdin",
     "output_type": "stream",
     "text": [
      "Enter years of experience:  10\n",
      "Enter the age of the staff:  25\n"
     ]
    },
    {
     "name": "stdout",
     "output_type": "stream",
     "text": [
      "ATR of staff is 550000\n"
     ]
    }
   ],
   "source": [
    "print(\"Welcome to Izifin Technology\")\n",
    "years = float(input(\"Enter years of experience: \"))\n",
    "age = float(input(\"Enter the age of the staff: \"))\n",
    "\n",
    "if years > 25.0 and age >= 55.0:\n",
    "    print(\"ATR of the staff is 5600000\")\n",
    "elif years > 20.0 and age >= 45.0:\n",
    "    print(\"ATR of staff is 4480000\")\n",
    "elif years > 10.0 and age >= 35.0:\n",
    "    print(\"ATR of staff is 1500000\")\n",
    "else: \n",
    "    print(\"ATR of staff is 550000\") \n",
    "\n",
    "    \n",
    "\n",
    "\n"
   ]
  },
  {
   "cell_type": "code",
   "execution_count": null,
   "id": "e53f5650-8db8-413c-b801-c3741be616f0",
   "metadata": {},
   "outputs": [],
   "source": []
  }
 ],
 "metadata": {
  "kernelspec": {
   "display_name": "Python 3 (ipykernel)",
   "language": "python",
   "name": "python3"
  },
  "language_info": {
   "codemirror_mode": {
    "name": "ipython",
    "version": 3
   },
   "file_extension": ".py",
   "mimetype": "text/x-python",
   "name": "python",
   "nbconvert_exporter": "python",
   "pygments_lexer": "ipython3",
   "version": "3.11.7"
  }
 },
 "nbformat": 4,
 "nbformat_minor": 5
}
