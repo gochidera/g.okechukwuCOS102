{
 "cells": [
  {
   "cell_type": "code",
   "execution_count": 3,
   "id": "eece990e-7701-444a-a7de-4c083eebc458",
   "metadata": {},
   "outputs": [
    {
     "name": "stdout",
     "output_type": "stream",
     "text": [
      "Welcome to the COUPE DE ESCRIVA 2023: FOOTBALL PICKS \n",
      "\n",
      "Madiba:  Chubby Obiora-Okafor\n",
      "Blue-Jays:  Christopher Uweh\n",
      "Cirok:  Alexander\n",
      "TSG Walkers:  Ikechukwu\n",
      "\n",
      "\n",
      "Madiba:  Chubby Obiora-Okafor\n",
      "Blue-Jays:  Oladimeji Abaniwondea/Jeffery Awagu\n",
      "Cirok:  Timileyin Pearse/Izuako Jeremy\n",
      "TSG Walkers:  Ayomide Ojituku\n"
     ]
    }
   ],
   "source": [
    "# COUPE DE ESCRIVA 2023: FOOTBALL PICKS\n",
    "\n",
    "print(\"Welcome to the COUPE DE ESCRIVA 2023: FOOTBALL PICKS \\n\")\n",
    "\n",
    "captain = {'Madiba: ': 'Chubby Obiora-Okafor', 'Blue-Jays: ': 'Christopher Uweh',\n",
    "           'Cirok: ': 'Alexander', 'TSG Walkers: ': 'Ikechukwu'}\n",
    "\n",
    "goalkeepers = {'Madiba: ' : 'Chubby Obiora-Okafor',\n",
    "               'Blue-Jays: ': 'Oladimeji Abaniwondea/Jeffery Awagu',\n",
    "               'Cirok: ': 'Timileyin Pearse/Izuako Jeremy',\n",
    "               'TSG Walkers: ': 'Ayomide Ojituku'}\n",
    "\n",
    "for choose in captain:\n",
    "    print(choose, captain[choose])\n",
    "\n",
    "print(\"\\n\")\n",
    "\n",
    "for choose in goalkeepers:\n",
    "    print(choose, goalkeepers[choose])\n"
   ]
  },
  {
   "cell_type": "code",
   "execution_count": null,
   "id": "8c788f31-1033-49db-b3af-3afda57d4daf",
   "metadata": {},
   "outputs": [],
   "source": []
  }
 ],
 "metadata": {
  "kernelspec": {
   "display_name": "Python 3 (ipykernel)",
   "language": "python",
   "name": "python3"
  },
  "language_info": {
   "codemirror_mode": {
    "name": "ipython",
    "version": 3
   },
   "file_extension": ".py",
   "mimetype": "text/x-python",
   "name": "python",
   "nbconvert_exporter": "python",
   "pygments_lexer": "ipython3",
   "version": "3.11.7"
  }
 },
 "nbformat": 4,
 "nbformat_minor": 5
}
